{
 "cells": [
  {
   "cell_type": "markdown",
   "metadata": {},
   "source": [
    "# AnomalyDetection_4_MovingAverage\n",
    "\n",
    "**Updates from previous notebook:** \n",
    "- this notebook follows the moving average idea from AnomalyDetection_3_Problem_1\n",
    "   "
   ]
  },
  {
   "cell_type": "markdown",
   "metadata": {},
   "source": [
    "## Libraries and Configuration"
   ]
  },
  {
   "cell_type": "code",
   "execution_count": 1,
   "metadata": {},
   "outputs": [],
   "source": [
    "\"\"\" Libraries \"\"\"\n",
    "\n",
    "#file / system libraries \n",
    "import os\n",
    "import datetime as dt\n",
    "\n",
    "# mathematical \n",
    "\n",
    "from numpy.fft import ifft\n",
    "from numpy.fft import fft\n",
    "import numpy as np\n",
    "\n",
    "# data exploration\n",
    "\n",
    "import pandas as pd\n",
    "\n",
    "# data visualization\n",
    "\n",
    "import matplotlib.pyplot as plt\n",
    "\n",
    "\"\"\" Configuration \"\"\"\n",
    "\n",
    "# pandas \n",
    "\n",
    "pd.set_option('display.max_columns', None)"
   ]
  },
  {
   "cell_type": "markdown",
   "metadata": {},
   "source": [
    "## Functions"
   ]
  },
  {
   "cell_type": "code",
   "execution_count": 2,
   "metadata": {},
   "outputs": [],
   "source": [
    "def polynomial(x):\n",
    "    \"\"\" takes an array and returns it after our polynomial function has been applied to it\"\"\"\n",
    "    C = [0.7741697399557282,-0.15839741967042406,0.09528795099596377,-0.004279871380772796]\n",
    "    y = C[0]*np.power(x,4)+C[1]*np.power(x,2)+C[2]*x+C[3]\n",
    "    return y\n",
    "\n",
    "def directory_to_df(paths, exclude = [None], filetype = '.csv',ignore_index = True, exception = '_repet'):\n",
    "    \"\"\" concatenates all files in a directory into a dataframe\n",
    "    components:\n",
    "    path: path to the directory (must end with /)\n",
    "    exclude: array of directories to excludes from the treatment\n",
    "    filetype: a string of the file extension (must include .)\n",
    "    ignore_index: boolean that tells pandas to ignore the index or not\n",
    "    exception: takes a string. Any time a filename includes this string it is treated differently (for cases when you have\n",
    "    more than one ) \n",
    "    \"\"\"\n",
    "    filenames = []\n",
    "    file_column = []\n",
    "    frames = []\n",
    "    test_index = 1\n",
    "    \n",
    "    for path in paths:\n",
    "        for filename in os.listdir(path):\n",
    "            print(path)\n",
    "            if filetype in filename and filename not in exclude:\n",
    "                if exception in filename:\n",
    "                    curr_df = pd.read_csv(path+filename)\n",
    "                    curr_df = special_treatment(curr_df)\n",
    "                    \n",
    "                else:\n",
    "                    curr_df = pd.read_csv(path+filename)                    \n",
    "                frames.append(curr_df)\n",
    "                filenames.append(filename.replace(filetype,''))\n",
    "                for i in range(curr_df.shape[0]):\n",
    "                    file_column.append(test_index)\n",
    "                test_index+=1\n",
    "\n",
    "    df = pd.concat(frames,ignore_index = ignore_index)\n",
    "    df['files'] = file_column\n",
    "    return df, filenames\n",
    "\n",
    "\n",
    "def special_treatment(df):\n",
    "    \"\"\" performs a custom operation on a dataframe\n",
    "    components:\n",
    "    df: dataframe to play on\n",
    "    \"\"\"\n",
    "    columns = df.columns.values.tolist()\n",
    "    columns.remove('date')\n",
    "    df.drop('gyrZ',inplace = True, axis = 1)\n",
    "    df.columns = columns\n",
    "    df.reset_index(inplace = True)\n",
    "    df.rename(columns= {'index':'date'},inplace = True)\n",
    "    return df\n",
    "\n",
    "class seasonality():\n",
    "    \"\"\" takes in a dataframe, outputting it with two extra columns: seasonality (but column name = seasonality\n",
    "    inputted) and times, where 'times' is a plottable version of date with reference to a prespecified start time\n",
    "    (day_start)\n",
    "    Components:\n",
    "    df: the dataframe, must have the dates column as 'date' and in np.datetime64 timeformat\n",
    "    seasonality (optional): defaults to 'day'. This is the criteria for splitting the data\n",
    "    day_start (optional): this signifies what is the 'start time' of the day (i.e. the 0 point on the x axis). Defaults\n",
    "    for midnight.\n",
    "    time_delta (optional): this defines the units for the time delta between data points. Defaults to seconds.\n",
    "    EDIT THIS MSG\n",
    "    NEED TO FIX THIS\n",
    "    \"\"\" \n",
    "    def __init__(self,df,seasonality='day',day_start = '00:00:00', time_delta = 's'):\n",
    "        \n",
    "        if seasonality not in ['hour','day','month','year']:\n",
    "            raise ValueError(\"you can only input the following for seasonality: 'day', 'month', or 'year'\")\n",
    "        self.df = df\n",
    "        self.seasonality = 'seasonality_{}'.format(seasonality)\n",
    "        try:\n",
    "            self.day_start = dt.datetime.strptime(day_start,'%H:%M:%S')\n",
    "        except:\n",
    "            raise ValueError('Please enter your day_start in the correct format: \"HH:MM:SS\". \"{}\" is not acceptable'\\\n",
    "                             .format(day_start))\n",
    "        self.time_delta = time_delta\n",
    "\n",
    "    def find_seasonal_trends(self):\n",
    "        if 'hour' in self.seasonality:\n",
    "            self.df[self.seasonality] = self.df.date.dt.hour\n",
    "        elif 'day' in self.seasonality:\n",
    "            self.df[self.seasonality] = self.df.date.dt.day\n",
    "        elif 'month' in self.seasonality:\n",
    "            self.df[self.seasonality] = self.df.date.dt.month\n",
    "        else:\n",
    "            self.df[self.seasonality] = self.df.date.dt.year\n",
    "            \n",
    "        self.create_times()\n",
    "\n",
    "\n",
    "        return self.df\n",
    "    \n",
    "    def create_times(self):\n",
    "        times = []\n",
    "        for season in self.df[self.seasonality].unique():\n",
    "            temp_dates = self.df.date[self.df[self.seasonality] == season].values\n",
    "            date = dt.datetime.strptime(str(temp_dates[0])[:-3], '%Y-%m-%dT%H:%M:%S.%f')\n",
    "            # 'date' is wrong: this will not work for when you have a lower order seasonality.\n",
    "            # it needs to adapt such that it starts recording when the beginning of the year\n",
    "            start_day = dt.datetime(date.year,\n",
    "                                    date.month,\n",
    "                                    date.day,\n",
    "                                    self.day_start.hour,\n",
    "                                    self.day_start.minute,\n",
    "                                    self.day_start.second)\n",
    "            start_day = np.datetime64(start_day)\n",
    "            \n",
    "            for index, date in enumerate(temp_dates):\n",
    "                times.append((date - start_day)/np.timedelta64(1, self.time_delta))\n",
    "        self.df['times'] = times"
   ]
  },
  {
   "cell_type": "markdown",
   "metadata": {},
   "source": [
    "## Data"
   ]
  },
  {
   "cell_type": "code",
   "execution_count": 3,
   "metadata": {},
   "outputs": [],
   "source": [
    "base = '/Users/yousefnami/KinKeepers/ProjectAI/Kin-Keepers/Data/{}'\n",
    "names = ['rohan','ignacio']\n",
    "end_labels = ['_filtered.csv']\n",
    "dfs = []\n",
    "\n",
    "for index,name in enumerate(names):\n",
    "    dfs.append(pd.read_csv(base.format(names[index]+end_labels[0]),index_col = 0))"
   ]
  },
  {
   "cell_type": "code",
   "execution_count": 4,
   "metadata": {},
   "outputs": [
    {
     "data": {
      "text/html": [
       "<div>\n",
       "<style scoped>\n",
       "    .dataframe tbody tr th:only-of-type {\n",
       "        vertical-align: middle;\n",
       "    }\n",
       "\n",
       "    .dataframe tbody tr th {\n",
       "        vertical-align: top;\n",
       "    }\n",
       "\n",
       "    .dataframe thead th {\n",
       "        text-align: right;\n",
       "    }\n",
       "</style>\n",
       "<table border=\"1\" class=\"dataframe\">\n",
       "  <thead>\n",
       "    <tr style=\"text-align: right;\">\n",
       "      <th></th>\n",
       "      <th>date</th>\n",
       "      <th>accX</th>\n",
       "      <th>accY</th>\n",
       "      <th>accZ</th>\n",
       "      <th>gyrX</th>\n",
       "      <th>gyrY</th>\n",
       "      <th>gyrZ</th>\n",
       "      <th>files</th>\n",
       "      <th>accTotal</th>\n",
       "      <th>gyrTotal</th>\n",
       "    </tr>\n",
       "  </thead>\n",
       "  <tbody>\n",
       "    <tr>\n",
       "      <th>220</th>\n",
       "      <td>2020-09-14 19:19:26</td>\n",
       "      <td>0.01</td>\n",
       "      <td>0.02</td>\n",
       "      <td>0.00</td>\n",
       "      <td>3.62</td>\n",
       "      <td>1.04</td>\n",
       "      <td>1.38</td>\n",
       "      <td>1</td>\n",
       "      <td>0.022361</td>\n",
       "      <td>4.011284</td>\n",
       "    </tr>\n",
       "    <tr>\n",
       "      <th>319</th>\n",
       "      <td>2020-09-14 19:20:39</td>\n",
       "      <td>0.09</td>\n",
       "      <td>0.16</td>\n",
       "      <td>0.14</td>\n",
       "      <td>36.11</td>\n",
       "      <td>25.84</td>\n",
       "      <td>67.85</td>\n",
       "      <td>1</td>\n",
       "      <td>0.230868</td>\n",
       "      <td>81.087978</td>\n",
       "    </tr>\n",
       "    <tr>\n",
       "      <th>320</th>\n",
       "      <td>2020-09-14 19:20:40</td>\n",
       "      <td>0.09</td>\n",
       "      <td>0.16</td>\n",
       "      <td>0.09</td>\n",
       "      <td>22.98</td>\n",
       "      <td>15.43</td>\n",
       "      <td>16.45</td>\n",
       "      <td>1</td>\n",
       "      <td>0.204450</td>\n",
       "      <td>32.198879</td>\n",
       "    </tr>\n",
       "    <tr>\n",
       "      <th>321</th>\n",
       "      <td>2020-09-14 19:20:41</td>\n",
       "      <td>0.05</td>\n",
       "      <td>0.07</td>\n",
       "      <td>0.09</td>\n",
       "      <td>22.98</td>\n",
       "      <td>15.43</td>\n",
       "      <td>16.45</td>\n",
       "      <td>1</td>\n",
       "      <td>0.124499</td>\n",
       "      <td>32.198879</td>\n",
       "    </tr>\n",
       "    <tr>\n",
       "      <th>322</th>\n",
       "      <td>2020-09-14 19:20:42</td>\n",
       "      <td>0.12</td>\n",
       "      <td>0.07</td>\n",
       "      <td>0.07</td>\n",
       "      <td>29.44</td>\n",
       "      <td>39.83</td>\n",
       "      <td>27.27</td>\n",
       "      <td>1</td>\n",
       "      <td>0.155563</td>\n",
       "      <td>56.540210</td>\n",
       "    </tr>\n",
       "  </tbody>\n",
       "</table>\n",
       "</div>"
      ],
      "text/plain": [
       "                    date  accX  accY  accZ   gyrX   gyrY   gyrZ  files  \\\n",
       "220  2020-09-14 19:19:26  0.01  0.02  0.00   3.62   1.04   1.38      1   \n",
       "319  2020-09-14 19:20:39  0.09  0.16  0.14  36.11  25.84  67.85      1   \n",
       "320  2020-09-14 19:20:40  0.09  0.16  0.09  22.98  15.43  16.45      1   \n",
       "321  2020-09-14 19:20:41  0.05  0.07  0.09  22.98  15.43  16.45      1   \n",
       "322  2020-09-14 19:20:42  0.12  0.07  0.07  29.44  39.83  27.27      1   \n",
       "\n",
       "     accTotal   gyrTotal  \n",
       "220  0.022361   4.011284  \n",
       "319  0.230868  81.087978  \n",
       "320  0.204450  32.198879  \n",
       "321  0.124499  32.198879  \n",
       "322  0.155563  56.540210  "
      ]
     },
     "execution_count": 4,
     "metadata": {},
     "output_type": "execute_result"
    }
   ],
   "source": [
    "dfs[0].head()"
   ]
  },
  {
   "cell_type": "code",
   "execution_count": 5,
   "metadata": {},
   "outputs": [
    {
     "data": {
      "text/html": [
       "<div>\n",
       "<style scoped>\n",
       "    .dataframe tbody tr th:only-of-type {\n",
       "        vertical-align: middle;\n",
       "    }\n",
       "\n",
       "    .dataframe tbody tr th {\n",
       "        vertical-align: top;\n",
       "    }\n",
       "\n",
       "    .dataframe thead th {\n",
       "        text-align: right;\n",
       "    }\n",
       "</style>\n",
       "<table border=\"1\" class=\"dataframe\">\n",
       "  <thead>\n",
       "    <tr style=\"text-align: right;\">\n",
       "      <th></th>\n",
       "      <th>date</th>\n",
       "      <th>accX</th>\n",
       "      <th>accY</th>\n",
       "      <th>accZ</th>\n",
       "      <th>gyrX</th>\n",
       "      <th>gyrY</th>\n",
       "      <th>gyrZ</th>\n",
       "      <th>files</th>\n",
       "      <th>accTotal</th>\n",
       "      <th>gyrTotal</th>\n",
       "    </tr>\n",
       "  </thead>\n",
       "  <tbody>\n",
       "    <tr>\n",
       "      <th>0</th>\n",
       "      <td>2020-09-13 17:09:25</td>\n",
       "      <td>0.02</td>\n",
       "      <td>0.12</td>\n",
       "      <td>0.03</td>\n",
       "      <td>1.47</td>\n",
       "      <td>3.32</td>\n",
       "      <td>2.22</td>\n",
       "      <td>1</td>\n",
       "      <td>0.125300</td>\n",
       "      <td>4.255784</td>\n",
       "    </tr>\n",
       "    <tr>\n",
       "      <th>1</th>\n",
       "      <td>2020-09-13 17:09:26</td>\n",
       "      <td>0.02</td>\n",
       "      <td>0.12</td>\n",
       "      <td>0.03</td>\n",
       "      <td>1.47</td>\n",
       "      <td>3.32</td>\n",
       "      <td>2.22</td>\n",
       "      <td>1</td>\n",
       "      <td>0.125300</td>\n",
       "      <td>4.255784</td>\n",
       "    </tr>\n",
       "    <tr>\n",
       "      <th>2</th>\n",
       "      <td>2020-09-13 17:09:27</td>\n",
       "      <td>0.01</td>\n",
       "      <td>0.01</td>\n",
       "      <td>0.00</td>\n",
       "      <td>7.43</td>\n",
       "      <td>6.82</td>\n",
       "      <td>10.10</td>\n",
       "      <td>1</td>\n",
       "      <td>0.014142</td>\n",
       "      <td>14.273307</td>\n",
       "    </tr>\n",
       "    <tr>\n",
       "      <th>12</th>\n",
       "      <td>2020-09-13 17:09:34</td>\n",
       "      <td>0.01</td>\n",
       "      <td>0.01</td>\n",
       "      <td>0.00</td>\n",
       "      <td>6.64</td>\n",
       "      <td>7.07</td>\n",
       "      <td>12.45</td>\n",
       "      <td>1</td>\n",
       "      <td>0.014142</td>\n",
       "      <td>15.782173</td>\n",
       "    </tr>\n",
       "    <tr>\n",
       "      <th>13</th>\n",
       "      <td>2020-09-13 17:09:34</td>\n",
       "      <td>0.01</td>\n",
       "      <td>0.01</td>\n",
       "      <td>0.00</td>\n",
       "      <td>4.12</td>\n",
       "      <td>3.61</td>\n",
       "      <td>5.81</td>\n",
       "      <td>1</td>\n",
       "      <td>0.014142</td>\n",
       "      <td>7.985149</td>\n",
       "    </tr>\n",
       "  </tbody>\n",
       "</table>\n",
       "</div>"
      ],
      "text/plain": [
       "                   date  accX  accY  accZ  gyrX  gyrY   gyrZ  files  accTotal  \\\n",
       "0   2020-09-13 17:09:25  0.02  0.12  0.03  1.47  3.32   2.22      1  0.125300   \n",
       "1   2020-09-13 17:09:26  0.02  0.12  0.03  1.47  3.32   2.22      1  0.125300   \n",
       "2   2020-09-13 17:09:27  0.01  0.01  0.00  7.43  6.82  10.10      1  0.014142   \n",
       "12  2020-09-13 17:09:34  0.01  0.01  0.00  6.64  7.07  12.45      1  0.014142   \n",
       "13  2020-09-13 17:09:34  0.01  0.01  0.00  4.12  3.61   5.81      1  0.014142   \n",
       "\n",
       "     gyrTotal  \n",
       "0    4.255784  \n",
       "1    4.255784  \n",
       "2   14.273307  \n",
       "12  15.782173  \n",
       "13   7.985149  "
      ]
     },
     "execution_count": 5,
     "metadata": {},
     "output_type": "execute_result"
    }
   ],
   "source": [
    "dfs[1].head()"
   ]
  },
  {
   "cell_type": "code",
   "execution_count": 174,
   "metadata": {},
   "outputs": [
    {
     "name": "stdout",
     "output_type": "stream",
     "text": [
      "0\n",
      "[1, 2, 3]\n"
     ]
    },
    {
     "data": {
      "text/plain": [
       "[[1.0, 1.5], [48.5, 9.5]]"
      ]
     },
     "execution_count": 174,
     "metadata": {},
     "output_type": "execute_result"
    }
   ],
   "source": [
    "import datetime as dt\n",
    "\n",
    "class moving_avg:\n",
    "    \"\"\"\n",
    "    a class used to store a moving average values, parameters\n",
    "    \n",
    "    Dependencies:\n",
    "    -------------\n",
    "    \n",
    "    \n",
    "    Attributes:\n",
    "    -----------\n",
    "    \n",
    "    averages: [*float]\n",
    "        stores the values of the moving average at each datapoint\n",
    "    \n",
    "    time_frame ( optional - 5 ): int\n",
    "        the window for the moving average, in hours\n",
    "        \n",
    "    weight ( optional - (0.0, 0.75) ): (float, float)\n",
    "        weight to apply to numbers greater than the specified quartile\n",
    "        \n",
    "    time_frame_start: datetime\n",
    "        the start of the moving average window\n",
    "        \n",
    "    Methods:\n",
    "    --------\n",
    "        \n",
    "    \"\"\"\n",
    "    averages = [[0.0,0.0]]\n",
    "    \n",
    "    num_points = []\n",
    "    \n",
    "    points = []\n",
    "    sum_points = [[0.0, 0.0]]\n",
    "    time_frame_start = [dt.datetime.strptime('1999-07-24 00:00:00','%Y-%m-%d %H:%M:%S')]\n",
    "    time_stamps = []\n",
    "    \n",
    "    def __init__( self, time_frame = 5, weight = (0.0, 0.75)):\n",
    "\n",
    "        self.time_frame = time_frame*3600\n",
    "        self.weight = weight\n",
    "\n",
    "    def plot():\n",
    "        pass # for plotting purposes\n",
    "    \n",
    "    \n",
    "class average(moving_avg):\n",
    "    \"\"\"\n",
    "    \n",
    "    Dependencies:\n",
    "    -------------\n",
    "    \n",
    "    \n",
    "    \n",
    "    Attributes:\n",
    "    -----------\n",
    "    \n",
    "    data: [float, float, float, float, float, float]\n",
    "        represents the list of the seven readings, averaged out over the second:\n",
    "        [AccX, AccY, AccZ, GyrX, GyrY, GyrZ, Fall]\n",
    "        Acceleration units are in g, Gyration in degrees per second\n",
    "        \n",
    "\n",
    "        \n",
    "    \"\"\"\n",
    "    \n",
    "    def __init__(self,data,time):\n",
    "        super().__init__()\n",
    "\n",
    "        self.data = data\n",
    "        self.time_stamps.append(dt.datetime.strptime(time,'%Y-%m-%d %H:%M:%S'))\n",
    "        \n",
    "        self.points.append([\n",
    "            data_point for data_point in self.data\n",
    "        ]\n",
    "        )\n",
    "        \n",
    "        \n",
    "            \n",
    "        if not moving_avg.num_points:\n",
    "            self.time_frame_start[-1] = self.time_stamps[-1]\n",
    "            \n",
    "        if (self.time_stamps[-1] - self.time_frame_start[-1]).total_seconds() >= self.time_frame: \n",
    "            self.update_attributes()        \n",
    "\n",
    "        \n",
    "        self.average()\n",
    "        \n",
    "    def average(self):\n",
    "        # need to know the index that we are dealing with!  \n",
    "        # need to know index of self.time_frame_start !\n",
    "        # so, from index of self.time_frame_start[-1], until the end of the list, sum all thevalues\n",
    "        \n",
    "        our_index = len(self.time_frame_start) - 1\n",
    "        our_range = len(self.points) - our_index\n",
    "        self.num_points.append(our_range)\n",
    "        \n",
    "        \n",
    "        for i in range(len(self.sum_points[-1])):\n",
    "            \n",
    "            for j in range(our_index, len(self.points) - 1):\n",
    "                \n",
    "                self.sum_points[-1][i] += self.points[j][i]\n",
    "        \n",
    "        #print(self.points)\n",
    "        #print(self.sum_points)\n",
    "            \n",
    "        self.averages[-1] = [sum_point/self.num_points[-1] for sum_point in self.sum_points[-1]]\n",
    "\n",
    "    def update_attributes(self):\n",
    "        \n",
    "        self.time_frame_start.append(\n",
    "            self.time_stamps[\n",
    "                self.time_stamps.index(\n",
    "                    self.time_frame_start[-1]\n",
    "                ) + 1\n",
    "            ]\n",
    "        )\n",
    "        our_index = self.time_stamps.index(self.time_frame_start[-1]) - 1\n",
    "        print(our_index)\n",
    "        self.num_points.append(len(self.points[our_index:]))\n",
    "        print(self.num_points)\n",
    "        self.sum_points.append([0.0,0.0])\n",
    "        self.averages.append(0)\n",
    "        \n",
    "\n",
    "\n",
    "data = [2,3]\n",
    "instance = average(data,'1999-07-24 00:00:00')\n",
    "data = [3,4]\n",
    "instance = average(data,'1999-07-24 04:00:00')\n",
    "data = [90,10]\n",
    "instance = average(data,'1999-07-24 05:00:00')\n",
    "\n",
    "data = [5,6]\n",
    "instance = average(data,'1999-07-24 5:01:00')\n",
    "data = [8,9]\n",
    "\n",
    "\n",
    "instance = average(data,'1999-07-24 5:02:00')\n",
    "\n",
    "\n",
    "moving_avg.averages\n"
   ]
  },
  {
   "cell_type": "markdown",
   "metadata": {},
   "source": [
    "## Power of the singal"
   ]
  },
  {
   "cell_type": "code",
   "execution_count": 214,
   "metadata": {},
   "outputs": [
    {
     "name": "stderr",
     "output_type": "stream",
     "text": [
      "/Users/yousefnami/python_environments/KinKeepers_AI/lib/python3.7/site-packages/scipy/signal/spectral.py:1812: UserWarning: Input data is complex, switching to return_onesided=False\n",
      "  warnings.warn('Input data is complex, switching to '\n",
      "/Users/yousefnami/python_environments/KinKeepers_AI/lib/python3.7/site-packages/scipy/signal/spectral.py:1812: UserWarning: Input data is complex, switching to return_onesided=False\n",
      "  warnings.warn('Input data is complex, switching to '\n",
      "/Users/yousefnami/python_environments/KinKeepers_AI/lib/python3.7/site-packages/scipy/signal/spectral.py:1812: UserWarning: Input data is complex, switching to return_onesided=False\n",
      "  warnings.warn('Input data is complex, switching to '\n",
      "/Users/yousefnami/python_environments/KinKeepers_AI/lib/python3.7/site-packages/scipy/signal/spectral.py:1812: UserWarning: Input data is complex, switching to return_onesided=False\n",
      "  warnings.warn('Input data is complex, switching to '\n",
      "/Users/yousefnami/python_environments/KinKeepers_AI/lib/python3.7/site-packages/scipy/signal/spectral.py:1812: UserWarning: Input data is complex, switching to return_onesided=False\n",
      "  warnings.warn('Input data is complex, switching to '\n",
      "/Users/yousefnami/python_environments/KinKeepers_AI/lib/python3.7/site-packages/scipy/signal/spectral.py:1812: UserWarning: Input data is complex, switching to return_onesided=False\n",
      "  warnings.warn('Input data is complex, switching to '\n",
      "/Users/yousefnami/python_environments/KinKeepers_AI/lib/python3.7/site-packages/scipy/signal/spectral.py:1812: UserWarning: Input data is complex, switching to return_onesided=False\n",
      "  warnings.warn('Input data is complex, switching to '\n",
      "/Users/yousefnami/python_environments/KinKeepers_AI/lib/python3.7/site-packages/scipy/signal/spectral.py:1812: UserWarning: Input data is complex, switching to return_onesided=False\n",
      "  warnings.warn('Input data is complex, switching to '\n",
      "/Users/yousefnami/python_environments/KinKeepers_AI/lib/python3.7/site-packages/scipy/signal/spectral.py:1812: UserWarning: Input data is complex, switching to return_onesided=False\n",
      "  warnings.warn('Input data is complex, switching to '\n",
      "/Users/yousefnami/python_environments/KinKeepers_AI/lib/python3.7/site-packages/scipy/signal/spectral.py:1812: UserWarning: Input data is complex, switching to return_onesided=False\n",
      "  warnings.warn('Input data is complex, switching to '\n",
      "/Users/yousefnami/python_environments/KinKeepers_AI/lib/python3.7/site-packages/scipy/signal/spectral.py:1812: UserWarning: Input data is complex, switching to return_onesided=False\n",
      "  warnings.warn('Input data is complex, switching to '\n"
     ]
    },
    {
     "name": "stdout",
     "output_type": "stream",
     "text": [
      "/Users/yousefnami/KinKeepers/ProjectAI/Kin-Keepers/Data/TestData/\n",
      "/Users/yousefnami/KinKeepers/ProjectAI/Kin-Keepers/Data/TestData/\n",
      "/Users/yousefnami/KinKeepers/ProjectAI/Kin-Keepers/Data/TestData/\n",
      "/Users/yousefnami/KinKeepers/ProjectAI/Kin-Keepers/Data/TestData/\n",
      "/Users/yousefnami/KinKeepers/ProjectAI/Kin-Keepers/Data/TestData/\n",
      "/Users/yousefnami/KinKeepers/ProjectAI/Kin-Keepers/Data/TestData/\n",
      "/Users/yousefnami/KinKeepers/ProjectAI/Kin-Keepers/Data/TestData/\n",
      "/Users/yousefnami/KinKeepers/ProjectAI/Kin-Keepers/Data/TestData/\n",
      "/Users/yousefnami/KinKeepers/ProjectAI/Kin-Keepers/Data/TestData/\n",
      "/Users/yousefnami/KinKeepers/ProjectAI/Kin-Keepers/Data/TestData/\n",
      "/Users/yousefnami/KinKeepers/ProjectAI/Kin-Keepers/Data/TestData/\n",
      "['adjusting-seating-position', 'falling', 'crossing-arms', 'walking', 'crossing-legs', 'fetching-remote', 'sitting-down', 'lifting-leg', 'lying-down']\n"
     ]
    },
    {
     "data": {
      "image/png": "[encoded data removed]",
      "text/plain": [
       "<Figure size 432x288 with 1 Axes>"
      ]
     },
     "metadata": {
      "needs_background": "light"
     },
     "output_type": "display_data"
    }
   ],
   "source": [
    "from scipy import signal\n",
    "\n",
    "fs = 1 # sampling frequency\n",
    "x = df_train.accTotal\n",
    "x = ifft(x)\n",
    "f, Pxx_den = signal.periodogram(x, fs) \n",
    "plt.show()\n",
    "\n",
    "plt.semilogy(f, Pxx_den,'b.')\n",
    "\n",
    "x = df_test.accTotal\n",
    "x = ifft(x)\n",
    "f, Pxx_den = signal.periodogram(x, fs) \n",
    "\n",
    "plt.semilogy(f, Pxx_den,'r.')\n",
    "#plt.show()\n",
    "\n",
    "# this shows some more promise... \n",
    "# at least very large movements can be captured\n",
    "\n",
    "\n",
    "path = ['/Users/yousefnami/KinKeepers/ProjectAI/Kin-Keepers/Data/TestData/']\n",
    "\n",
    "df_testing, files = directory_to_df(path, ignore_index = False)\n",
    "columns = df_testing.columns.values.tolist()\n",
    "columns.remove('date')\n",
    "df_testing.drop('gyrZ',inplace = True, axis = 1)\n",
    "df_testing.columns = columns\n",
    "df_testing['accTotal'] = np.sqrt(np.power(df_testing[['accX','accY','accZ']],2).sum(axis = 1))\n",
    "df_testing['gyrTotal'] = np.sqrt(np.power(df_testing[['gyrX','gyrY','gyrZ']],2).sum(axis = 1))\n",
    "df_testing.reset_index(inplace = True)\n",
    "\n",
    "for file in df_testing.files.unique():\n",
    "    x = df_testing.accTotal[df_testing.files == 9]\n",
    "    x = ifft(x)\n",
    "    f, Pxx_den = signal.periodogram(x, fs) \n",
    "    plt.semilogy(f, Pxx_den,'.')\n",
    "print(files)\n",
    "\n",
    "plt.show()\n",
    "\n",
    "# not convinced if power works either...\n",
    "# need to look into what the power function is actually doing ?"
   ]
  },
  {
   "cell_type": "code",
   "execution_count": 212,
   "metadata": {},
   "outputs": [
    {
     "name": "stderr",
     "output_type": "stream",
     "text": [
      "/Users/yousefnami/python_environments/KinKeepers_AI/lib/python3.7/site-packages/numpy/core/_asarray.py:83: ComplexWarning: Casting complex values to real discards the imaginary part\n",
      "  return array(a, dtype, copy=False, order=order)\n"
     ]
    },
    {
     "data": {
      "image/png": "[encoded data removed]",
      "text/plain": [
       "<Figure size 432x288 with 1 Axes>"
      ]
     },
     "metadata": {
      "needs_background": "light"
     },
     "output_type": "display_data"
    },
    {
     "name": "stderr",
     "output_type": "stream",
     "text": [
      "/Users/yousefnami/python_environments/KinKeepers_AI/lib/python3.7/site-packages/numpy/core/_asarray.py:83: ComplexWarning: Casting complex values to real discards the imaginary part\n",
      "  return array(a, dtype, copy=False, order=order)\n"
     ]
    },
    {
     "data": {
      "text/plain": [
       "[<matplotlib.lines.Line2D at 0x129e85b50>]"
      ]
     },
     "execution_count": 212,
     "metadata": {},
     "output_type": "execute_result"
    },
    {
     "data": {
      "image/png": "[encoded data removed]",
      "text/plain": [
       "<Figure size 432x288 with 1 Axes>"
      ]
     },
     "metadata": {
      "needs_background": "light"
     },
     "output_type": "display_data"
    }
   ],
   "source": [
    "x = df_train.accTotal\n",
    "x = ifft(x)\n",
    "plt.plot(df_train.index,x,'r.')\n",
    "plt.show()\n",
    "x = df_test.accTotal\n",
    "x = ifft(x)\n",
    "plt.plot(df_test.index,x,'b.')"
   ]
  },
  {
   "cell_type": "code",
   "execution_count": 144,
   "metadata": {},
   "outputs": [
    {
     "data": {
      "image/png": "[encoded data removed]",
      "text/plain": [
       "<Figure size 432x288 with 1 Axes>"
      ]
     },
     "metadata": {
      "needs_background": "light"
     },
     "output_type": "display_data"
    },
    {
     "data": {
      "image/png": "[encoded data removed]",
      "text/plain": [
       "<Figure size 432x288 with 1 Axes>"
      ]
     },
     "metadata": {
      "needs_background": "light"
     },
     "output_type": "display_data"
    }
   ],
   "source": [
    "fs = 10e3\n",
    "N = 1e5\n",
    "amp = 2*np.sqrt(2)\n",
    "freq = 1234.0\n",
    "noise_power = 0.001 * fs / 2\n",
    "time = np.arange(N) / fs\n",
    "x = amp*np.sin(2*np.pi*freq*time)\n",
    "x += np.random.normal(scale=np.sqrt(noise_power), size=time.shape)\n",
    "\n",
    "plt.plot(time,x,'.')\n",
    "plt.show()\n",
    "\n",
    "f, Pxx_den = signal.welch(x, fs, nperseg=1024)\n",
    "plt.semilogy(f, Pxx_den)\n",
    "plt.ylim([0.5e-3, 1])\n",
    "plt.xlabel('frequency [Hz]')\n",
    "plt.ylabel('PSD [V**2/Hz]')\n",
    "plt.show()"
   ]
  },
  {
   "cell_type": "code",
   "execution_count": 215,
   "metadata": {},
   "outputs": [
    {
     "name": "stderr",
     "output_type": "stream",
     "text": [
      "/Users/yousefnami/python_environments/KinKeepers_AI/lib/python3.7/site-packages/scipy/signal/spectral.py:1963: UserWarning: nperseg = 1024 is greater than input length  = 58, using nperseg = 58\n",
      "  .format(nperseg, input_length))\n",
      "/Users/yousefnami/python_environments/KinKeepers_AI/lib/python3.7/site-packages/scipy/signal/spectral.py:1963: UserWarning: nperseg = 1024 is greater than input length  = 49, using nperseg = 49\n",
      "  .format(nperseg, input_length))\n",
      "/Users/yousefnami/python_environments/KinKeepers_AI/lib/python3.7/site-packages/scipy/signal/spectral.py:1963: UserWarning: nperseg = 1024 is greater than input length  = 57, using nperseg = 57\n",
      "  .format(nperseg, input_length))\n",
      "/Users/yousefnami/python_environments/KinKeepers_AI/lib/python3.7/site-packages/scipy/signal/spectral.py:1963: UserWarning: nperseg = 1024 is greater than input length  = 58, using nperseg = 58\n",
      "  .format(nperseg, input_length))\n"
     ]
    },
    {
     "data": {
      "image/png": "[encoded data removed]",
      "text/plain": [
       "<Figure size 432x288 with 1 Axes>"
      ]
     },
     "metadata": {
      "needs_background": "light"
     },
     "output_type": "display_data"
    }
   ],
   "source": [
    "df_walk = df_testing[df_testing.files == 4]\n",
    "x = df_walk.accTotal\n",
    "f, Pxx_den = signal.periodogram(x, 1) \n",
    "f, Pxx_den = signal.welch(x, 1, nperseg=1024)\n",
    "plt.plot(f,Pxx_den/58)\n",
    "\n",
    "\n",
    "\n",
    "df_walk = df_testing[df_testing.files == 5]\n",
    "x = df_walk.accTotal\n",
    "f, Pxx_den = signal.periodogram(x, 1) \n",
    "f, Pxx_den = signal.welch(x, 1, nperseg=1024)\n",
    "plt.plot(f,Pxx_den/49)\n",
    "\n",
    "\n",
    "\n",
    "df_walk = df_testing[df_testing.files == 2]\n",
    "x = df_walk.accTotal\n",
    "f, Pxx_den = signal.periodogram(x, 1) \n",
    "f, Pxx_den = signal.welch(x, 1, nperseg=1024)\n",
    "plt.plot(f,Pxx_den/57)\n",
    "\n",
    "\n",
    "\n",
    "\"\"\"df_walk = df_testing[df_testing.files == 1]\n",
    "x = df_walk.accTotal\n",
    "f, Pxx_den = signal.periodogram(x, 1) \n",
    "f, Pxx_den = signal.welch(x, 1, nperseg=1024)\n",
    "plt.plot(f,Pxx_den/53)\n",
    "\"\"\"\n",
    "\n",
    "\n",
    "df_walk = df_testing[df_testing.files == 9]\n",
    "x = df_walk.accTotal\n",
    "f, Pxx_den = signal.periodogram(x, 1) \n",
    "f, Pxx_den = signal.welch(x, 1, nperseg=1024)\n",
    "plt.plot(f,Pxx_den/53)\n",
    "\n",
    "\n",
    "plt.show()"
   ]
  },
  {
   "cell_type": "code",
   "execution_count": 208,
   "metadata": {},
   "outputs": [
    {
     "name": "stderr",
     "output_type": "stream",
     "text": [
      "/Users/yousefnami/python_environments/KinKeepers_AI/lib/python3.7/site-packages/scipy/signal/spectral.py:1963: UserWarning: nperseg = 1024 is greater than input length  = 149, using nperseg = 149\n",
      "  .format(nperseg, input_length))\n",
      "/Users/yousefnami/python_environments/KinKeepers_AI/lib/python3.7/site-packages/scipy/signal/spectral.py:1963: UserWarning: nperseg = 1024 is greater than input length  = 49, using nperseg = 49\n",
      "  .format(nperseg, input_length))\n"
     ]
    },
    {
     "data": {
      "text/plain": [
       "[<matplotlib.lines.Line2D at 0x128daa1d0>]"
      ]
     },
     "execution_count": 208,
     "metadata": {},
     "output_type": "execute_result"
    },
    {
     "data": {
      "image/png": "[encoded data removed]",
      "text/plain": [
       "<Figure size 432x288 with 1 Axes>"
      ]
     },
     "metadata": {
      "needs_background": "light"
     },
     "output_type": "display_data"
    }
   ],
   "source": [
    "df_walk = df_testing[df_testing.files == 5]\n",
    "x = df_walk.accTotal.values.tolist()\n",
    "for i in range(100):\n",
    "    x.append(0)\n",
    "f, Pxx_den = signal.periodogram(x, 1) \n",
    "f, Pxx_den = signal.welch(x, 1, nperseg=1024)\n",
    "plt.plot(f,Pxx_den/149)\n",
    "\n",
    "\n",
    "df_walk = df_testing[df_testing.files == 5]\n",
    "x = df_walk.accTotal.values.tolist()\n",
    "f, Pxx_den = signal.periodogram(x, 1) \n",
    "f, Pxx_den = signal.welch(x, 1, nperseg=1024)\n",
    "plt.plot(f,Pxx_den/49)"
   ]
  },
  {
   "cell_type": "code",
   "execution_count": 190,
   "metadata": {},
   "outputs": [
    {
     "data": {
      "image/png": "[encoded data removed]",
      "text/plain": [
       "<Figure size 432x288 with 1 Axes>"
      ]
     },
     "metadata": {
      "needs_background": "light"
     },
     "output_type": "display_data"
    }
   ],
   "source": [
    "plt.plot(df_train.index,df_train.accTotal,'.')\n",
    "\n",
    "for file in df_testing.files.unique():\n",
    "    df_temp = df_testing[df_testing.files == file]\n",
    "    plt.plot(df_temp.index,df_temp.accTotal,'.')\n"
   ]
  },
  {
   "cell_type": "markdown",
   "metadata": {},
   "source": [
    "# Conclusion\n",
    "\n",
    "Power seems to be a much better indicator than moving average... I am still not convinced by that.\n",
    "Why?\n",
    "Here are my concerns:\n",
    "1. What do you choose as the time interval? This cannot actually be based on time, must be based on a number of points. If so, then since you've lost the DoF of time, then for one set of movement data, you might be capturing data over 1 min, or over 2 hrs, for the 1 min, the movement may not even be finished yet, but for the 2 hrs, it may have captured too many different movements?\n",
    "2. The averages don't change that much, because of the data being right skewed. That said, there might need to be some sort of 'weighting' given to values that are greater than the upper quartile. What would this weighting be?\n",
    "3. The second point does not fix the first point\n",
    "4. Not sure how to combine acceleration and gyration?\n",
    "\n",
    "Need to perhaps also understand how the Movement detection API works.\n",
    "\n",
    "\n",
    "Another idea... what if you randomly sample the data for a set period (i.e. 1 hr for example), and then based on those results, calculate the power of the signal, and store it. Then you can train a neural network based on the power within the data, and then see if your result is anomalous or not? This would be interesting eh?"
   ]
  }
 ],
 "metadata": {
  "kernelspec": {
   "display_name": "KinKeepers_AI",
   "language": "python",
   "name": "kinkeepers_ai"
  },
  "language_info": {
   "codemirror_mode": {
    "name": "ipython",
    "version": 3
   },
   "file_extension": ".py",
   "mimetype": "text/x-python",
   "name": "python",
   "nbconvert_exporter": "python",
   "pygments_lexer": "ipython3",
   "version": "3.7.6"
  }
 },
 "nbformat": 4,
 "nbformat_minor": 4
}
