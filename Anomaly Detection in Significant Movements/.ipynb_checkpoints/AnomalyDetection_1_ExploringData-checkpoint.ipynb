{
 "cells": [
  {
   "cell_type": "markdown",
   "metadata": {},
   "source": [
    "# AnomalyDetection_1_ExploringData\n",
    "\n",
    "The first part of the project (separating significant movements from non-significant ones) has been complete, with the following condition having been found:\n",
    "\n",
    "$$ M =\\begin{cases} \n",
    "      -1 & g_ig_i > p\\left(\\frac{1}{\\dot{\\theta_i}\\dot{\\theta_i}}\\right)\\\\\n",
    "      1 & g_ig_i\\leq p\\left(\\frac{1}{\\dot{\\theta_i}\\dot{\\theta_i}}\\right) \\\\\n",
    "   \\end{cases}\n",
    "$$\n",
    "\n",
    "$$p(x_i) = C_ix_i$$\n",
    "\n",
    "$$ C_i = \\begin{pmatrix}\n",
    "0.7741697399557282\\\\\n",
    "-0.15839741967042406\\\\\n",
    "0.09528795099596377\\\\\n",
    "-0.004279871380772796\n",
    "\\end{pmatrix} \\,\\, \\mathrm{and} \\,\\,  x_i = \\begin{pmatrix}\n",
    "x^4\\\\\n",
    "x^2\\\\\n",
    "x\\\\\n",
    "1\n",
    "\\end{pmatrix} $$\n",
    "\n",
    "On the assumption that this is a good model (ideally given more resources and time, more elaborate testing would have been carried out), the goal now is to find anomalies in time series of the significant movements."
   ]
  },
  {
   "cell_type": "markdown",
   "metadata": {},
   "source": [
    "## Libraries"
   ]
  },
  {
   "cell_type": "markdown",
   "metadata": {},
   "source": [
    "## Data"
   ]
  },
  {
   "cell_type": "code",
   "execution_count": null,
   "metadata": {},
   "outputs": [],
   "source": []
  }
 ],
 "metadata": {
  "kernelspec": {
   "display_name": "KinKeepers_AI",
   "language": "python",
   "name": "kinkeepers_ai"
  },
  "language_info": {
   "codemirror_mode": {
    "name": "ipython",
    "version": 3
   },
   "file_extension": ".py",
   "mimetype": "text/x-python",
   "name": "python",
   "nbconvert_exporter": "python",
   "pygments_lexer": "ipython3",
   "version": "3.7.6"
  }
 },
 "nbformat": 4,
 "nbformat_minor": 4
}
